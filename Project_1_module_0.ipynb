{
 "cells": [
  {
   "cell_type": "code",
   "execution_count": 11,
   "metadata": {},
   "outputs": [
    {
     "name": "stdout",
     "output_type": "stream",
     "text": [
      "Ваш алгоритм угадывает число в среднем за 5 попыток\n",
      "Ваш алгоритм угадывает число в среднем за 1 попыток\n"
     ]
    }
   ],
   "source": [
    "import numpy as np\n",
    "\n",
    "def game_score_v3(number):\n",
    "    '''Функция угадывает число путем деления диапазона поиска пополам и\n",
    "    сравнения загаданного числа со значением в середине диапазона. На выходе возвращает число попыток.'''\n",
    "    predict = np.random.randint(1,101)\n",
    "    count = 0\n",
    "    upper_border = 100\n",
    "    down_border = 1\n",
    "    middle = 50\n",
    "    \n",
    "    for i in range(1,101):\n",
    "        count += 1\n",
    "        if predict == middle:\n",
    "            #print(f'Загаданное число - {middle}')\n",
    "            break\n",
    "        elif predict > middle: \n",
    "            #Если число больше значения середины,то поиск осуществляется в первой половине элементов\n",
    "            if predict == upper_border:\n",
    "                break\n",
    "            down_border = middle #изменяется нижняя граница диапазона\n",
    "            middle = (upper_border+down_border) // 2 #вновь определяется значение серединного элемента для последующего сравнения\n",
    "        elif predict < middle: \n",
    "            #Если искомое значение меньше значения середины,то поиск осуществляется во второй половине элементов\n",
    "            if predict == down_border:\n",
    "                break\n",
    "            upper_border = middle #изменяется верхняя граница диапазона\n",
    "            middle = (upper_border+down_border)//2        \n",
    "    return(count)\n",
    "\n",
    "\n",
    "def score_game(game_score_v3):\n",
    "    '''Запускаем игру 1000 раз, чтобы узнать, как быстро игра угадывает число'''\n",
    "    count_ls = []\n",
    "    num = 0\n",
    "    np.random.seed(1)  # фиксируем RANDOM SEED, чтобы ваш эксперимент был воспроизводим!\n",
    "    random_array = np.random.randint(1,101, size=(1000))\n",
    "    for number in random_array:\n",
    "        count_ls.append(game_score_v3(number))\n",
    "    score = int(np.mean(count_ls))\n",
    "    print(f\"Ваш алгоритм угадывает число в среднем за {score} попыток\")\n",
    "    return(score)\n",
    "\n",
    "\n",
    "def game_score_v4(number):\n",
    "    \"\"\"Функция ищет сгенерированное число в диапазоне от 1 до 100. Диапазоны поиска и искомое число представлены в \n",
    "    виде строковых величин для возможности использования метода строк S.find().\"\"\"\n",
    "    count = 0\n",
    "    first = 0\n",
    "    right = ''\n",
    "    predict = np.random.randint(1,101)\n",
    "    predict_str = str(predict)\n",
    "    numbers_1_9 = '1 2 3 4 5 6 7 8 9'\n",
    "    numbers_10_99 = '10 11 12 13 14 15 16 17 18 19 20 21 22 23 24 25 26 27 28 29 30 31 32 33 34 35 36 37 38 39 40 41 42 43 44 45 46 47 48 49 50 51 52 53 54 55 56 57 58 59 60 61 62 63 64 65 66 67 68 69 70 71 72 73 74 75 76 77 78 79 80 81 82 83 84 85 86 87 88 89 90 91 92 93 94 95 96 97 98 99'\n",
    "    \n",
    "    if predict < 10:\n",
    "        right = numbers_1_9[numbers_1_9.find(predict_str)] #если число однозначное,то срез из строки состоит из 1 элемента\n",
    "        count += 1\n",
    "        #print(f'Загаданное число - {int(right)}')\n",
    "    if predict>=10 and predict<100:\n",
    "        right = numbers_10_99[numbers_10_99.find(predict_str):numbers_10_99.find(predict_str) + 2]\n",
    "        #если двузначное число-срез из 2-х элементов\n",
    "        count += 1\n",
    "        #print(f'Загаданное число - {int(right)}')\n",
    "    if predict == 100:\n",
    "        count += 1\n",
    "        #print(f'Загаданное число - {predict}')\n",
    "        \n",
    "    return(count)\n",
    "\n",
    "x=score_game(game_score_v3)\n",
    "y=score_game(game_score_v4)\n"
   ]
  },
  {
   "cell_type": "code",
   "execution_count": null,
   "metadata": {},
   "outputs": [],
   "source": []
  }
 ],
 "metadata": {
  "kernelspec": {
   "display_name": "Python 3",
   "language": "python",
   "name": "python3"
  },
  "language_info": {
   "codemirror_mode": {
    "name": "ipython",
    "version": 3
   },
   "file_extension": ".py",
   "mimetype": "text/x-python",
   "name": "python",
   "nbconvert_exporter": "python",
   "pygments_lexer": "ipython3",
   "version": "3.8.5"
  }
 },
 "nbformat": 4,
 "nbformat_minor": 4
}
