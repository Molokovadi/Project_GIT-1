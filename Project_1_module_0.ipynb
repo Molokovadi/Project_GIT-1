{
 "cells": [
  {
   "cell_type": "code",
   "execution_count": 7,
   "metadata": {},
   "outputs": [
    {
     "name": "stdout",
     "output_type": "stream",
     "text": [
      "Ваш алгоритм угадывает число в среднем за 5 попыток\n"
     ]
    },
    {
     "data": {
      "text/plain": [
       "5"
      ]
     },
     "execution_count": 7,
     "metadata": {},
     "output_type": "execute_result"
    }
   ],
   "source": [
    "import numpy as np\n",
    "\n",
    "def game_score_v3(number):\n",
    "    '''Функция угадывает число путем деления диапазона поиска пополам и\n",
    "    сравнения загаданного числа со значением в середине диапазона. На выходе возвращает число попыток.'''\n",
    "    predict = np.random.randint(1,101)\n",
    "    count = 0\n",
    "    upper_border = 100\n",
    "    down_border = 1\n",
    "    middle = 50\n",
    "    \n",
    "    for i in range(1,101):\n",
    "        count += 1\n",
    "        if predict == middle:\n",
    "            #print(f'Загаданное число - {middle}')\n",
    "            break\n",
    "        elif predict > middle:#Если число больше значения середины,то поиск осуществляется в первой половине элементов\n",
    "            if predict == upper_border:\n",
    "                break\n",
    "            down_border = middle\n",
    "            middle = (upper_border+down_border) // 2 #вновь определяется значение серединного элемента и потом сравнивается с random\n",
    "        elif predict < middle:##Если искомое значение меньше значения середины,то поиск осуществляется во второй половине элементов\n",
    "            if predict == down_border:\n",
    "                break\n",
    "            upper_border = middle\n",
    "            middle = (upper_border+down_border)//2\n",
    "            \n",
    "    return(count)\n",
    "\n",
    "\n",
    "def score_game(game_score_v3):\n",
    "    '''Запускаем игру 1000 раз, чтобы узнать, как быстро игра угадывает число'''\n",
    "    count_ls = []\n",
    "    num = 0\n",
    "    np.random.seed(1)  # фиксируем RANDOM SEED, чтобы ваш эксперимент был воспроизводим!\n",
    "    random_array = np.random.randint(1,101, size=(1000))\n",
    "    for number in random_array:\n",
    "        count_ls.append(game_score_v3(num))\n",
    "    score = int(np.mean(count_ls))\n",
    "    print(f\"Ваш алгоритм угадывает число в среднем за {score} попыток\")\n",
    "    return(score)\n",
    "\n",
    "y=score_game(game_score_v3)\n",
    "y"
   ]
  },
  {
   "cell_type": "code",
   "execution_count": null,
   "metadata": {},
   "outputs": [],
   "source": []
  }
 ],
 "metadata": {
  "kernelspec": {
   "display_name": "Python 3",
   "language": "python",
   "name": "python3"
  },
  "language_info": {
   "codemirror_mode": {
    "name": "ipython",
    "version": 3
   },
   "file_extension": ".py",
   "mimetype": "text/x-python",
   "name": "python",
   "nbconvert_exporter": "python",
   "pygments_lexer": "ipython3",
   "version": "3.8.5"
  }
 },
 "nbformat": 4,
 "nbformat_minor": 4
}
